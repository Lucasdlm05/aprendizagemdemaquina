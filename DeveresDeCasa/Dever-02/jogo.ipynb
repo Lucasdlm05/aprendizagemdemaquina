{
 "cells": [
  {
   "cell_type": "code",
   "execution_count": 1,
   "metadata": {},
   "outputs": [
    {
     "name": "stdout",
     "output_type": "stream",
     "text": [
      "jogar bola\n"
     ]
    }
   ],
   "source": [
    "print('jogar bola')"
   ]
  },
  {
   "cell_type": "code",
   "execution_count": 2,
   "metadata": {},
   "outputs": [
    {
     "name": "stdout",
     "output_type": "stream",
     "text": [
      "4 é um numero par\n"
     ]
    }
   ],
   "source": [
    "num = int(input('digite um numero:'))\n",
    "\n",
    "if num % 2 == 0:\n",
    "    print(f'{num} é um numero par')\n",
    "else:\n",
    "    print(f'{num} é um numero impar')"
   ]
  }
 ],
 "metadata": {
  "kernelspec": {
   "display_name": "Python 3",
   "language": "python",
   "name": "python3"
  },
  "language_info": {
   "codemirror_mode": {
    "name": "ipython",
    "version": 3
   },
   "file_extension": ".py",
   "mimetype": "text/x-python",
   "name": "python",
   "nbconvert_exporter": "python",
   "pygments_lexer": "ipython3",
   "version": "3.13.2"
  }
 },
 "nbformat": 4,
 "nbformat_minor": 2
}
